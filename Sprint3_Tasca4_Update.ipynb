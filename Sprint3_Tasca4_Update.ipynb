{
 "cells": [
  {
   "cell_type": "code",
   "execution_count": 68,
   "metadata": {
    "scrolled": true
   },
   "outputs": [
    {
     "name": "stdout",
     "output_type": "stream",
     "text": [
      "the array dimension is 1\n",
      "the sum is 34\n",
      "the minimum is 1\n",
      "the maximum is 15\n",
      "the mean value is 6.8\n",
      "the standard deviation is 5.19\n"
     ]
    }
   ],
   "source": [
    "#Exercici 1_Crea una funció que donat un Array d’una dimensió, \n",
    "#et faci un resum estadístic bàsic de les dades. \n",
    "import numpy as np\n",
    "import pandas as pd\n",
    "import matplotlib.pyplot as plt\n",
    "import seaborn as sns\n",
    "import warnings\n",
    "\n",
    "data = np.array([1,2,6,10,15])\n",
    "print('the array dimension is', data.ndim)\n",
    "print('the sum is', data.sum())\n",
    "print('the minimum is', data.min())\n",
    "print('the maximum is', data.max())\n",
    "print('the mean value is', data.mean())\n",
    "print('the standard deviation is', np.std(data).round(2))"
   ]
  },
  {
   "cell_type": "code",
   "execution_count": 71,
   "metadata": {},
   "outputs": [
    {
     "name": "stdout",
     "output_type": "stream",
     "text": [
      "cuidado! arr1 té mes d'una dimensió.\n"
     ]
    }
   ],
   "source": [
    "#Si detecta que l’array té més d’una dimensió, ha de mostrar un missatge d’error.\n",
    "arr1 = np.array(([1,2,3,4,5],[6,7,8,9,10]))\n",
    "if arr1.ndim > 1:\n",
    " print(\"cuidado! arr1 té mes d'una dimensió.\")"
   ]
  },
  {
   "cell_type": "code",
   "execution_count": 2,
   "metadata": {},
   "outputs": [
    {
     "name": "stdout",
     "output_type": "stream",
     "text": [
      "[[92 83 47 43 15 85 97 29 90 12]\n",
      " [ 3 86 20 12 90 33 33 53 99 69]\n",
      " [91 75 67 51 50 32 43 98 56 71]\n",
      " [58  0 74 34 89 83 72 49 81  5]\n",
      " [51 75 69 42 75 68 32 48 63 23]\n",
      " [35 19 73 16  5 68 59 97 55 51]\n",
      " [89 65 37  0 42 33  6 62 80 53]\n",
      " [45  8 56 95 83 47 39 52 31 38]\n",
      " [50 12 71 49 87 19 88 90 83 60]\n",
      " [53 60 58  6  0 27 58 33 45 98]]\n"
     ]
    }
   ],
   "source": [
    "#Exercici 2_Crea una funció que et generi un quadrat NxN de nombres aleatoris entre el 0 i el 100.\n",
    "from numpy import random\n",
    "x = random.randint(100, size=(10, 10))\n",
    "print(x)"
   ]
  },
  {
   "cell_type": "code",
   "execution_count": 6,
   "metadata": {},
   "outputs": [
    {
     "name": "stdout",
     "output_type": "stream",
     "text": [
      "[[1 2 3]\n",
      " [4 5 6]]\n",
      "els totals per fila es [[ 6 15]]\n",
      "els totals per columna es [[5 7 9]]\n"
     ]
    }
   ],
   "source": [
    "#Exercici 3_Crea una funció que donada una taula de dues dimensions, \n",
    "#et calculi els totals per fila i els totals per columna.\n",
    "arr = np.array([[1, 2, 3],[4, 5, 6]])\n",
    "print(arr)\n",
    "newarr1 = np.sum([arr],axis=1)\n",
    "newarr2 = np.sum([arr],axis=2)\n",
    "print(\"els totals per fila es\",newarr2)\n",
    "print(\"els totals per columna es\",newarr1)"
   ]
  },
  {
   "cell_type": "code",
   "execution_count": 4,
   "metadata": {},
   "outputs": [],
   "source": [
    "#Exercici 4_Implementa manualment una funció que calculi el coeficient de correlació. \n",
    "#Informa’t-en sobre els seus usos i interpretació."
   ]
  },
  {
   "cell_type": "code",
   "execution_count": 5,
   "metadata": {},
   "outputs": [
    {
     "name": "stdout",
     "output_type": "stream",
     "text": [
      "[[1.         0.92966968]\n",
      " [0.92966968 1.        ]]\n"
     ]
    }
   ],
   "source": [
    "x_simple = np.array([1,2,3,4,5])\n",
    "y_simple = np.array([1,4,4,5,6])\n",
    "rho = np.corrcoef(x_simple, y_simple)\n",
    "\n",
    "print(rho)"
   ]
  }
 ],
 "metadata": {
  "kernelspec": {
   "display_name": "Python 3",
   "language": "python",
   "name": "python3"
  },
  "language_info": {
   "codemirror_mode": {
    "name": "ipython",
    "version": 3
   },
   "file_extension": ".py",
   "mimetype": "text/x-python",
   "name": "python",
   "nbconvert_exporter": "python",
   "pygments_lexer": "ipython3",
   "version": "3.8.5"
  }
 },
 "nbformat": 4,
 "nbformat_minor": 4
}
