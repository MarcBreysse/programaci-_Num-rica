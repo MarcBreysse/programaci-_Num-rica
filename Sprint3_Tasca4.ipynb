{
 "cells": [
  {
   "cell_type": "code",
   "execution_count": 22,
   "metadata": {},
   "outputs": [
    {
     "name": "stdout",
     "output_type": "stream",
     "text": [
      "the average value is: 3.0\n"
     ]
    }
   ],
   "source": [
    "#Exercici 1_Crea una funció que donat un Array d’una dimensió, \n",
    "#et faci un resum estadístic bàsic de les dades. \n",
    "#Si detecta que l’array té més d’una dimensió, ha de mostrar un missatge d’error.\n",
    "import numpy as np\n",
    "arr = np.array([1,2,3,4,5])\n",
    "newarr = np.sum([arr])\n",
    "print(\"the average value is:\",newarr/5)"
   ]
  },
  {
   "cell_type": "code",
   "execution_count": 36,
   "metadata": {},
   "outputs": [
    {
     "name": "stdout",
     "output_type": "stream",
     "text": [
      "[[ 1 86 70 62 99 82 89 19  9 64]\n",
      " [98 10 65 89 85  0 86 77 46 97]\n",
      " [86 16  0 67 21 23 17 31 24  4]\n",
      " [95 16 56 16 77 25  6 96 90 63]\n",
      " [42 93 99 44 57 70 54 99 67 75]\n",
      " [11 36 11 63 77 42 63 19 83 38]\n",
      " [24  7 78 51 60 38 26 14 77  0]\n",
      " [58 11 66 13 42 61  2 38 90 77]\n",
      " [90 42 28 58 40 87 70 79 48 32]\n",
      " [50 39 48 11 42 76  5 14 67 55]]\n"
     ]
    }
   ],
   "source": [
    "#Exercici 2_Crea una funció que et generi un quadrat NxN de nombres aleatoris entre el 0 i el 100.\n",
    "from numpy import random\n",
    "x = random.randint(100, size=(10, 10))\n",
    "print(x)"
   ]
  },
  {
   "cell_type": "code",
   "execution_count": 34,
   "metadata": {},
   "outputs": [
    {
     "name": "stdout",
     "output_type": "stream",
     "text": [
      "[[1 2 3]\n",
      " [4 5 6]]\n",
      "els totals per fila es [[ 6 15]]\n",
      "els totals per columna es [[5 7 9]]\n"
     ]
    }
   ],
   "source": [
    "#Exercici 3_Crea una funció que donada una taula de dues dimensions, \n",
    "#et calculi els totals per fila i els totals per columna.\n",
    "arr = np.array([[1, 2, 3],[4, 5, 6]])\n",
    "print(arr)\n",
    "newarr1 = np.sum([arr],axis=1)\n",
    "newarr2 = np.sum([arr],axis=2)\n",
    "print(\"els totals per fila es\",newarr2)\n",
    "print(\"els totals per columna es\",newarr1)"
   ]
  },
  {
   "cell_type": "code",
   "execution_count": 7,
   "metadata": {},
   "outputs": [],
   "source": [
    "#Exercici 4_Implementa manualment una funció que calculi el coeficient de correlació. \n",
    "#Informa’t-en sobre els seus usos i interpretació."
   ]
  },
  {
   "cell_type": "code",
   "execution_count": 41,
   "metadata": {},
   "outputs": [
    {
     "name": "stdout",
     "output_type": "stream",
     "text": [
      "[[1.         0.92966968]\n",
      " [0.92966968 1.        ]]\n"
     ]
    }
   ],
   "source": [
    "x_simple = np.array([1,2,3,4,5])\n",
    "y_simple = np.array([1,4,4,5,6])\n",
    "rho = np.corrcoef(x_simple, y_simple)\n",
    "\n",
    "print(rho)"
   ]
  }
 ],
 "metadata": {
  "kernelspec": {
   "display_name": "Python 3",
   "language": "python",
   "name": "python3"
  },
  "language_info": {
   "codemirror_mode": {
    "name": "ipython",
    "version": 3
   },
   "file_extension": ".py",
   "mimetype": "text/x-python",
   "name": "python",
   "nbconvert_exporter": "python",
   "pygments_lexer": "ipython3",
   "version": "3.8.5"
  }
 },
 "nbformat": 4,
 "nbformat_minor": 4
}
